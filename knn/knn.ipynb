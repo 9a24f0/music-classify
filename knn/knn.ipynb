{
  "nbformat": 4,
  "nbformat_minor": 0,
  "metadata": {
    "colab": {
      "name": "knn.ipynb",
      "provenance": []
    },
    "kernelspec": {
      "name": "python3",
      "display_name": "Python 3"
    }
  },
  "cells": [
    {
      "cell_type": "code",
      "metadata": {
        "colab": {
          "base_uri": "https://localhost:8080/"
        },
        "id": "3OjOXBN2jDIX",
        "outputId": "8d42d905-51bf-4f90-d9a8-38fdc8b01667"
      },
      "source": [
        "from google.colab import drive\r\n",
        "drive.mount('/content/gdrive/')"
      ],
      "execution_count": 1,
      "outputs": [
        {
          "output_type": "stream",
          "text": [
            "Drive already mounted at /content/gdrive/; to attempt to forcibly remount, call drive.mount(\"/content/gdrive/\", force_remount=True).\n"
          ],
          "name": "stdout"
        }
      ]
    },
    {
      "cell_type": "code",
      "metadata": {
        "colab": {
          "base_uri": "https://localhost:8080/"
        },
        "id": "q8sVSqmrh-0l",
        "outputId": "b4374e7d-a0a1-4d7f-8d38-dc781c3311c9"
      },
      "source": [
        "!pip install python_speech_features"
      ],
      "execution_count": 2,
      "outputs": [
        {
          "output_type": "stream",
          "text": [
            "Requirement already satisfied: python_speech_features in /usr/local/lib/python3.6/dist-packages (0.6)\n"
          ],
          "name": "stdout"
        }
      ]
    },
    {
      "cell_type": "code",
      "metadata": {
        "id": "wllyU3iVhv5k"
      },
      "source": [
        "from python_speech_features import mfcc\r\n",
        "import scipy.io.wavfile as wav\r\n",
        "import numpy as np\r\n",
        "\r\n",
        "from tempfile import TemporaryFile\r\n",
        "import os\r\n",
        "import pickle\r\n",
        "import random \r\n",
        "import operator\r\n",
        "\r\n",
        "import math\r\n",
        "import numpy as np\r\n",
        "from collections import defaultdict"
      ],
      "execution_count": 3,
      "outputs": []
    },
    {
      "cell_type": "code",
      "metadata": {
        "id": "6iry8VeVh2bp"
      },
      "source": [
        "def getNeighbors(trainingSet, instance, k):\r\n",
        "    distances = []\r\n",
        "    for x in range (len(trainingSet)):\r\n",
        "        dist = distance(trainingSet[x], instance, k )+ distance(instance, trainingSet[x], k)\r\n",
        "        distances.append((trainingSet[x][2], dist))\r\n",
        "    distances.sort(key=operator.itemgetter(1))\r\n",
        "    neighbors = []\r\n",
        "    for x in range(k):\r\n",
        "        neighbors.append(distances[x][0])\r\n",
        "    return neighbors"
      ],
      "execution_count": 4,
      "outputs": []
    },
    {
      "cell_type": "code",
      "metadata": {
        "id": "g7qPeTbZiV1E"
      },
      "source": [
        "def nearestClass(neighbors):\r\n",
        "    classVote = {}\r\n",
        "\r\n",
        "    for x in range(len(neighbors)):\r\n",
        "        response = neighbors[x]\r\n",
        "        if response in classVote:\r\n",
        "            classVote[response]+=1 \r\n",
        "        else:\r\n",
        "            classVote[response]=1\r\n",
        "\r\n",
        "    sorter = sorted(classVote.items(), key = operator.itemgetter(1), reverse=True)\r\n",
        "    return sorter[0][0]"
      ],
      "execution_count": 5,
      "outputs": []
    },
    {
      "cell_type": "code",
      "metadata": {
        "id": "KdqDlVAOialc"
      },
      "source": [
        "def getAccuracy(testSet, predictions):\r\n",
        "    correct = 0 \r\n",
        "    for x in range (len(testSet)):\r\n",
        "        if testSet[x][-1]==predictions[x]:\r\n",
        "            correct+=1\r\n",
        "    return 1.0*correct/len(testSet)"
      ],
      "execution_count": 6,
      "outputs": []
    },
    {
      "cell_type": "code",
      "metadata": {
        "id": "6Aq5EQiM455t"
      },
      "source": [
        "def distance(instance1, instance2, k):\r\n",
        "  distance = 0;\r\n",
        "  mm1 = instance1[0]\r\n",
        "  cm1 = instance1[1]\r\n",
        "  mm2 = instance2[0]\r\n",
        "  cm2 = instance2[1]\r\n",
        "  distance = np.trace(np.dot(np.linalg.inv(cm2), cm1)) \r\n",
        "  distance += (np.dot(np.dot((mm2-mm1).transpose() , np.linalg.inv(cm2)) , mm2-mm1 )) \r\n",
        "  distance += np.log(np.linalg.det(cm2)) - np.log(np.linalg.det(cm1))\r\n",
        "  distance -= k\r\n",
        "  return distance"
      ],
      "execution_count": 7,
      "outputs": []
    },
    {
      "cell_type": "code",
      "metadata": {
        "id": "aDhetOn9if70"
      },
      "source": [
        "directory = '/content/gdrive/MyDrive/genres'\r\n",
        "f = open(\"my.dat\" ,'wb')\r\n",
        "i=0\r\n",
        "\r\n",
        "for folder in os.listdir(directory):\r\n",
        "    i+=1\r\n",
        "    if i==11 :\r\n",
        "        break \t\r\n",
        "    for file in os.listdir(directory+\"/\"+folder):\t\r\n",
        "        (rate,sig) = wav.read(directory+\"/\"+folder+\"/\"+file)\r\n",
        "        mfcc_feat = mfcc(sig,rate ,winlen=0.020, appendEnergy = False)\r\n",
        "        covariance = np.cov(np.matrix.transpose(mfcc_feat))\r\n",
        "        mean_matrix = mfcc_feat.mean(0)\r\n",
        "        feature = (mean_matrix , covariance , i)\r\n",
        "        pickle.dump(feature , f)\r\n",
        "\r\n",
        "f.close()"
      ],
      "execution_count": 8,
      "outputs": []
    },
    {
      "cell_type": "code",
      "metadata": {
        "id": "3v3u7q0QlTTf"
      },
      "source": [
        "dataset = []\r\n",
        "def loadDataset(filename , split , trSet , teSet):\r\n",
        "    with open(\"my.dat\" , 'rb') as f:\r\n",
        "        while True:\r\n",
        "            try:\r\n",
        "                dataset.append(pickle.load(f))\r\n",
        "            except EOFError:\r\n",
        "                f.close()\r\n",
        "                break\t\r\n",
        "\r\n",
        "    for x in range(len(dataset)):\r\n",
        "        if random.random() <split :\t\t\t\r\n",
        "            trSet.append(dataset[x])\r\n",
        "        else:\r\n",
        "            teSet.append(dataset[x])\t\r\n",
        "\r\n",
        "trainingSet = []\r\n",
        "testSet = []\r\n",
        "loadDataset(\"my.dat\" , 0.66, trainingSet, testSet)"
      ],
      "execution_count": 9,
      "outputs": []
    },
    {
      "cell_type": "code",
      "metadata": {
        "colab": {
          "base_uri": "https://localhost:8080/"
        },
        "id": "mHTK0WWblWpt",
        "outputId": "62ffd34c-abca-4e42-e41c-a3ab0d74f8e1"
      },
      "source": [
        "leng = len(testSet)\r\n",
        "predictions = []\r\n",
        "for x in range (leng):\r\n",
        "    predictions.append(nearestClass(getNeighbors(trainingSet ,testSet[x] , 5))) \r\n",
        "\r\n",
        "accuracy1 = getAccuracy(testSet , predictions)\r\n",
        "print(accuracy1)"
      ],
      "execution_count": 10,
      "outputs": [
        {
          "output_type": "stream",
          "text": [
            "0.6734104046242775\n"
          ],
          "name": "stdout"
        }
      ]
    },
    {
      "cell_type": "code",
      "metadata": {
        "colab": {
          "base_uri": "https://localhost:8080/"
        },
        "id": "0MXu_Y316cx0",
        "outputId": "19f16c3a-950b-49a8-f95f-c187c679331b"
      },
      "source": [
        "results=defaultdict(int)\r\n",
        "\r\n",
        "i=1\r\n",
        "for folder in os.listdir(directory):\r\n",
        "    results[i]=folder\r\n",
        "    i+=1\r\n",
        "print(results)\r\n",
        "(rate,sig) = wav.read('/content/gdrive/MyDrive/genres/hh.wav')\r\n",
        "mfcc_feat = mfcc(sig,rate,winlen=0.020,appendEnergy=False)\r\n",
        "covariance = np.cov(np.matrix.transpose(mfcc_feat))\r\n",
        "mean_matrix = mfcc_feat.mean(0)\r\n",
        "feature=(mean_matrix,covariance,0)\r\n",
        "\r\n",
        "pred=nearestClass(getNeighbors(dataset ,feature , 5))\r\n",
        "print(pred)\r\n",
        "print(results[pred])"
      ],
      "execution_count": 13,
      "outputs": [
        {
          "output_type": "stream",
          "text": [
            "defaultdict(<class 'int'>, {1: 'rock', 2: 'reggae', 3: 'pop', 4: 'metal', 5: 'jazz', 6: 'hiphop', 7: 'disco', 8: 'country', 9: 'classical', 10: 'blues', 11: 'hh.wav'})\n",
            "1\n",
            "rock\n"
          ],
          "name": "stdout"
        }
      ]
    }
  ]
}
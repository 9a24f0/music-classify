{
 "cells": [
  {
   "cell_type": "code",
   "execution_count": 1,
   "metadata": {},
   "outputs": [],
   "source": [
    "# Import libraries\n",
    "\n",
    "from python_speech_features import mfcc\n",
    "import scipy.io.wavfile as wav\n",
    "import numpy as np\n",
    "from tempfile import TemporaryFile\n",
    "import os\n",
    "import pickle\n",
    "import random \n",
    "import operator\n",
    "import math\n",
    "\n",
    "from sklearn import svm\n",
    "import sklearn.model_selection as model_selection\n",
    "from sklearn.metrics import accuracy_score\n",
    "from sklearn.metrics import f1_score"
   ]
  },
  {
   "cell_type": "code",
   "execution_count": 2,
   "metadata": {},
   "outputs": [],
   "source": [
    "# Extract features from the dataset and dump these features into a binary .dat file “my.dat”:\n",
    "\n",
    "directory = \"D:\\PythonProject\\MusicClassification\\genres\"\n",
    "f = open(\"my.dat\", 'wb')\n",
    "i = 0\n",
    "y = []\n",
    "for folder in os.listdir(directory):\n",
    "    i += 1\n",
    "    if i == 11:\n",
    "        break\n",
    "    for file in os.listdir(directory + \"\\\\\" + folder):\n",
    "        (rate, sig) = wav.read(directory + \"\\\\\" + folder + \"\\\\\" + file)\n",
    "        mfcc_feat = mfcc(sig, rate, winlen = 0.020, appendEnergy = False)\n",
    "        covariance = np.cov(np.matrix.transpose(mfcc_feat))\n",
    "        covariance.flatten()\n",
    "        mean_matrix = mfcc_feat.mean(0)\n",
    "        feature = np.concatenate((mean_matrix, covariance), axis=None)\n",
    "        y.append(i)\n",
    "        pickle.dump(feature, f)\n",
    "        \n",
    "f.close()"
   ]
  },
  {
   "cell_type": "code",
   "execution_count": 3,
   "metadata": {},
   "outputs": [],
   "source": [
    "# Read the dataset\n",
    "\n",
    "X = []\n",
    "with open(\"my.dat\", 'rb') as f:\n",
    "    while True:\n",
    "        try:\n",
    "            X.append(pickle.load(f))\n",
    "        except EOFError:\n",
    "            f.close()\n",
    "            break"
   ]
  },
  {
   "cell_type": "code",
   "execution_count": 4,
   "metadata": {},
   "outputs": [],
   "source": [
    "# Split train and test dataset\n",
    "\n",
    "X_train, X_test, y_train, y_test = model_selection.train_test_split(X, y, train_size=0.80, test_size=0.20, random_state=101)"
   ]
  },
  {
   "cell_type": "code",
   "execution_count": 5,
   "metadata": {},
   "outputs": [],
   "source": [
    "# Create Linear and Polynomial objects from SVM to create two different classifier\n",
    "\n",
    "linear = svm.SVC(kernel='linear', gamma=0.5, C = 1).fit(X_train, y_train)\n",
    "poly = svm.SVC(kernel='poly', degree = 1, C = 1).fit(X_train, y_train)"
   ]
  },
  {
   "cell_type": "code",
   "execution_count": 6,
   "metadata": {},
   "outputs": [],
   "source": [
    "# Calculate the effeciency of two models\n",
    "\n",
    "poly_pred = poly.predict(X_test)\n",
    "linear_pred = linear.predict(X_test)"
   ]
  },
  {
   "cell_type": "code",
   "execution_count": 7,
   "metadata": {},
   "outputs": [
    {
     "name": "stdout",
     "output_type": "stream",
     "text": [
      "Accuracy (Polynomial Kernel):  66.00\n",
      "F1 (Polynomial Kernel):  66.63\n"
     ]
    }
   ],
   "source": [
    "# Result of Polynomial kernel\n",
    "\n",
    "poly_accuracy = accuracy_score(y_test, poly_pred)\n",
    "poly_f1 = f1_score(y_test, poly_pred, average='weighted')\n",
    "print('Accuracy (Polynomial Kernel): ', \"%.2f\" % (poly_accuracy*100))\n",
    "print('F1 (Polynomial Kernel): ', \"%.2f\" % (poly_f1*100))"
   ]
  },
  {
   "cell_type": "code",
   "execution_count": 8,
   "metadata": {},
   "outputs": [
    {
     "name": "stdout",
     "output_type": "stream",
     "text": [
      "Accuracy (Linear Kernel):  69.50\n",
      "F1 (Linear Kernel):  69.47\n"
     ]
    }
   ],
   "source": [
    "# Result of Linear kernel\n",
    "\n",
    "linear_accuracy = accuracy_score(y_test, linear_pred)\n",
    "linear_f1 = f1_score(y_test, linear_pred, average='weighted')\n",
    "print('Accuracy (Linear Kernel): ', \"%.2f\" % (linear_accuracy*100))\n",
    "print('F1 (Linear Kernel): ', \"%.2f\" % (linear_f1*100))"
   ]
  },
  {
   "cell_type": "code",
   "execution_count": null,
   "metadata": {},
   "outputs": [],
   "source": []
  }
 ],
 "metadata": {
  "kernelspec": {
   "display_name": "Python 3",
   "language": "python",
   "name": "python3"
  },
  "language_info": {
   "codemirror_mode": {
    "name": "ipython",
    "version": 3
   },
   "file_extension": ".py",
   "mimetype": "text/x-python",
   "name": "python",
   "nbconvert_exporter": "python",
   "pygments_lexer": "ipython3",
   "version": "3.8.5"
  }
 },
 "nbformat": 4,
 "nbformat_minor": 4
}
